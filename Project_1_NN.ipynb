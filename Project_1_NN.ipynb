{
  "cells": [
    {
      "cell_type": "markdown",
      "source": [
        "**Part (1): Neural Netwrok from Scratch on Iris Dataset**"
      ],
      "metadata": {
        "id": "cXbPuFS8DLTg"
      }
    },
    {
      "cell_type": "code",
      "source": [
        "import numpy as np\n",
        "import pandas as pd\n",
        "import time\n",
        "import matplotlib.pyplot\n",
        "from keras.datasets import mnist\n",
        "from sklearn import datasets\n",
        "from sklearn.model_selection import train_test_split\n",
        "from sklearn.datasets import load_iris\n",
        "from sklearn.preprocessing import OneHotEncoder\n"
      ],
      "metadata": {
        "id": "fxJzP0wMDXDd"
      },
      "execution_count": null,
      "outputs": []
    },
    {
      "cell_type": "code",
      "execution_count": null,
      "metadata": {
        "id": "5PrNOWbHIbyD",
        "colab": {
          "base_uri": "https://localhost:8080/"
        },
        "outputId": "d4001a09-4852-44d3-ea5e-750f9f955247"
      },
      "outputs": [
        {
          "output_type": "stream",
          "name": "stdout",
          "text": [
            "Drive already mounted at /content/drive/; to attempt to forcibly remount, call drive.mount(\"/content/drive/\", force_remount=True).\n"
          ]
        }
      ],
      "source": [
        "from google.colab import drive\n",
        "drive.mount('/content/drive/')\n"
      ]
    },
    {
      "cell_type": "code",
      "execution_count": null,
      "metadata": {
        "id": "xK7ejCd2Iz1Y"
      },
      "outputs": [],
      "source": [
        "iris = pd.read_csv('/content/drive/My Drive/Datasets/Iris.csv')"
      ]
    },
    {
      "cell_type": "code",
      "execution_count": null,
      "metadata": {
        "id": "U9L8CwckI_yr",
        "colab": {
          "base_uri": "https://localhost:8080/",
          "height": 206
        },
        "outputId": "fd6fc2f4-16fa-4934-e9dc-369a0af77418"
      },
      "outputs": [
        {
          "output_type": "execute_result",
          "data": {
            "text/plain": [
              "   Id  SepalLengthCm  SepalWidthCm  PetalLengthCm  PetalWidthCm      Species\n",
              "0   1            5.1           3.5            1.4           0.2  Iris-setosa\n",
              "1   2            4.9           3.0            1.4           0.2  Iris-setosa\n",
              "2   3            4.7           3.2            1.3           0.2  Iris-setosa\n",
              "3   4            4.6           3.1            1.5           0.2  Iris-setosa\n",
              "4   5            5.0           3.6            1.4           0.2  Iris-setosa"
            ],
            "text/html": [
              "\n",
              "  <div id=\"df-e6d244db-c6c5-4acf-811d-9b1134530cc4\">\n",
              "    <div class=\"colab-df-container\">\n",
              "      <div>\n",
              "<style scoped>\n",
              "    .dataframe tbody tr th:only-of-type {\n",
              "        vertical-align: middle;\n",
              "    }\n",
              "\n",
              "    .dataframe tbody tr th {\n",
              "        vertical-align: top;\n",
              "    }\n",
              "\n",
              "    .dataframe thead th {\n",
              "        text-align: right;\n",
              "    }\n",
              "</style>\n",
              "<table border=\"1\" class=\"dataframe\">\n",
              "  <thead>\n",
              "    <tr style=\"text-align: right;\">\n",
              "      <th></th>\n",
              "      <th>Id</th>\n",
              "      <th>SepalLengthCm</th>\n",
              "      <th>SepalWidthCm</th>\n",
              "      <th>PetalLengthCm</th>\n",
              "      <th>PetalWidthCm</th>\n",
              "      <th>Species</th>\n",
              "    </tr>\n",
              "  </thead>\n",
              "  <tbody>\n",
              "    <tr>\n",
              "      <th>0</th>\n",
              "      <td>1</td>\n",
              "      <td>5.1</td>\n",
              "      <td>3.5</td>\n",
              "      <td>1.4</td>\n",
              "      <td>0.2</td>\n",
              "      <td>Iris-setosa</td>\n",
              "    </tr>\n",
              "    <tr>\n",
              "      <th>1</th>\n",
              "      <td>2</td>\n",
              "      <td>4.9</td>\n",
              "      <td>3.0</td>\n",
              "      <td>1.4</td>\n",
              "      <td>0.2</td>\n",
              "      <td>Iris-setosa</td>\n",
              "    </tr>\n",
              "    <tr>\n",
              "      <th>2</th>\n",
              "      <td>3</td>\n",
              "      <td>4.7</td>\n",
              "      <td>3.2</td>\n",
              "      <td>1.3</td>\n",
              "      <td>0.2</td>\n",
              "      <td>Iris-setosa</td>\n",
              "    </tr>\n",
              "    <tr>\n",
              "      <th>3</th>\n",
              "      <td>4</td>\n",
              "      <td>4.6</td>\n",
              "      <td>3.1</td>\n",
              "      <td>1.5</td>\n",
              "      <td>0.2</td>\n",
              "      <td>Iris-setosa</td>\n",
              "    </tr>\n",
              "    <tr>\n",
              "      <th>4</th>\n",
              "      <td>5</td>\n",
              "      <td>5.0</td>\n",
              "      <td>3.6</td>\n",
              "      <td>1.4</td>\n",
              "      <td>0.2</td>\n",
              "      <td>Iris-setosa</td>\n",
              "    </tr>\n",
              "  </tbody>\n",
              "</table>\n",
              "</div>\n",
              "      <button class=\"colab-df-convert\" onclick=\"convertToInteractive('df-e6d244db-c6c5-4acf-811d-9b1134530cc4')\"\n",
              "              title=\"Convert this dataframe to an interactive table.\"\n",
              "              style=\"display:none;\">\n",
              "        \n",
              "  <svg xmlns=\"http://www.w3.org/2000/svg\" height=\"24px\"viewBox=\"0 0 24 24\"\n",
              "       width=\"24px\">\n",
              "    <path d=\"M0 0h24v24H0V0z\" fill=\"none\"/>\n",
              "    <path d=\"M18.56 5.44l.94 2.06.94-2.06 2.06-.94-2.06-.94-.94-2.06-.94 2.06-2.06.94zm-11 1L8.5 8.5l.94-2.06 2.06-.94-2.06-.94L8.5 2.5l-.94 2.06-2.06.94zm10 10l.94 2.06.94-2.06 2.06-.94-2.06-.94-.94-2.06-.94 2.06-2.06.94z\"/><path d=\"M17.41 7.96l-1.37-1.37c-.4-.4-.92-.59-1.43-.59-.52 0-1.04.2-1.43.59L10.3 9.45l-7.72 7.72c-.78.78-.78 2.05 0 2.83L4 21.41c.39.39.9.59 1.41.59.51 0 1.02-.2 1.41-.59l7.78-7.78 2.81-2.81c.8-.78.8-2.07 0-2.86zM5.41 20L4 18.59l7.72-7.72 1.47 1.35L5.41 20z\"/>\n",
              "  </svg>\n",
              "      </button>\n",
              "      \n",
              "  <style>\n",
              "    .colab-df-container {\n",
              "      display:flex;\n",
              "      flex-wrap:wrap;\n",
              "      gap: 12px;\n",
              "    }\n",
              "\n",
              "    .colab-df-convert {\n",
              "      background-color: #E8F0FE;\n",
              "      border: none;\n",
              "      border-radius: 50%;\n",
              "      cursor: pointer;\n",
              "      display: none;\n",
              "      fill: #1967D2;\n",
              "      height: 32px;\n",
              "      padding: 0 0 0 0;\n",
              "      width: 32px;\n",
              "    }\n",
              "\n",
              "    .colab-df-convert:hover {\n",
              "      background-color: #E2EBFA;\n",
              "      box-shadow: 0px 1px 2px rgba(60, 64, 67, 0.3), 0px 1px 3px 1px rgba(60, 64, 67, 0.15);\n",
              "      fill: #174EA6;\n",
              "    }\n",
              "\n",
              "    [theme=dark] .colab-df-convert {\n",
              "      background-color: #3B4455;\n",
              "      fill: #D2E3FC;\n",
              "    }\n",
              "\n",
              "    [theme=dark] .colab-df-convert:hover {\n",
              "      background-color: #434B5C;\n",
              "      box-shadow: 0px 1px 3px 1px rgba(0, 0, 0, 0.15);\n",
              "      filter: drop-shadow(0px 1px 2px rgba(0, 0, 0, 0.3));\n",
              "      fill: #FFFFFF;\n",
              "    }\n",
              "  </style>\n",
              "\n",
              "      <script>\n",
              "        const buttonEl =\n",
              "          document.querySelector('#df-e6d244db-c6c5-4acf-811d-9b1134530cc4 button.colab-df-convert');\n",
              "        buttonEl.style.display =\n",
              "          google.colab.kernel.accessAllowed ? 'block' : 'none';\n",
              "\n",
              "        async function convertToInteractive(key) {\n",
              "          const element = document.querySelector('#df-e6d244db-c6c5-4acf-811d-9b1134530cc4');\n",
              "          const dataTable =\n",
              "            await google.colab.kernel.invokeFunction('convertToInteractive',\n",
              "                                                     [key], {});\n",
              "          if (!dataTable) return;\n",
              "\n",
              "          const docLinkHtml = 'Like what you see? Visit the ' +\n",
              "            '<a target=\"_blank\" href=https://colab.research.google.com/notebooks/data_table.ipynb>data table notebook</a>'\n",
              "            + ' to learn more about interactive tables.';\n",
              "          element.innerHTML = '';\n",
              "          dataTable['output_type'] = 'display_data';\n",
              "          await google.colab.output.renderOutput(dataTable, element);\n",
              "          const docLink = document.createElement('div');\n",
              "          docLink.innerHTML = docLinkHtml;\n",
              "          element.appendChild(docLink);\n",
              "        }\n",
              "      </script>\n",
              "    </div>\n",
              "  </div>\n",
              "  "
            ]
          },
          "metadata": {},
          "execution_count": 71
        }
      ],
      "source": [
        "iris.head()"
      ]
    },
    {
      "cell_type": "code",
      "execution_count": null,
      "metadata": {
        "id": "cWJSzLREI_18",
        "colab": {
          "base_uri": "https://localhost:8080/"
        },
        "outputId": "e4b49d3e-ac1c-43f9-e44a-b3543a983edb"
      },
      "outputs": [
        {
          "output_type": "stream",
          "name": "stdout",
          "text": [
            "      Id  SepalLengthCm  SepalWidthCm  PetalLengthCm  PetalWidthCm  \\\n",
            "0      1            5.1           3.5            1.4           0.2   \n",
            "50    51            7.0           3.2            4.7           1.4   \n",
            "100  101            6.3           3.3            6.0           2.5   \n",
            "\n",
            "             Species  \n",
            "0        Iris-setosa  \n",
            "50   Iris-versicolor  \n",
            "100   Iris-virginica  \n"
          ]
        }
      ],
      "source": [
        "# Dropping Null Values\n",
        "data = iris.drop_duplicates(subset =\"Species\",)\n",
        "print(data)"
      ]
    },
    {
      "cell_type": "code",
      "execution_count": null,
      "metadata": {
        "id": "UdKiqGvdTBZV",
        "colab": {
          "base_uri": "https://localhost:8080/"
        },
        "outputId": "8173b821-aa07-4e53-9dab-fd30e8cd36a5"
      },
      "outputs": [
        {
          "output_type": "execute_result",
          "data": {
            "text/plain": [
              "array([[5.1, 3.5, 1.4, 0.2],\n",
              "       [4.9, 3. , 1.4, 0.2],\n",
              "       [4.7, 3.2, 1.3, 0.2],\n",
              "       [4.6, 3.1, 1.5, 0.2],\n",
              "       [5. , 3.6, 1.4, 0.2]])"
            ]
          },
          "metadata": {},
          "execution_count": 73
        }
      ],
      "source": [
        "X = iris[['SepalLengthCm', 'SepalWidthCm', 'PetalLengthCm', 'PetalWidthCm']]\n",
        "X = np.array(X)\n",
        "X[:5]"
      ]
    },
    {
      "cell_type": "code",
      "execution_count": null,
      "metadata": {
        "id": "DOZgiAcbWLOQ"
      },
      "outputs": [],
      "source": [
        "one_hot_encoder = OneHotEncoder(sparse=False)"
      ]
    },
    {
      "cell_type": "code",
      "execution_count": null,
      "metadata": {
        "id": "gSrPAyCoWOVZ",
        "colab": {
          "base_uri": "https://localhost:8080/"
        },
        "outputId": "3c85640e-3960-4833-a425-ff6ca2cca246"
      },
      "outputs": [
        {
          "output_type": "execute_result",
          "data": {
            "text/plain": [
              "array([[1., 0., 0.],\n",
              "       [1., 0., 0.],\n",
              "       [1., 0., 0.],\n",
              "       [1., 0., 0.],\n",
              "       [1., 0., 0.]])"
            ]
          },
          "metadata": {},
          "execution_count": 75
        }
      ],
      "source": [
        "Y = iris.Species\n",
        "Y = one_hot_encoder.fit_transform(np.array(Y).reshape(-1, 1))\n",
        "Y[:5]"
      ]
    },
    {
      "cell_type": "code",
      "execution_count": null,
      "metadata": {
        "id": "-81sHiskV9lC"
      },
      "outputs": [],
      "source": [
        "X_train, X_test, Y_train, Y_test = train_test_split(X, Y, test_size=0.15)"
      ]
    },
    {
      "cell_type": "code",
      "execution_count": null,
      "metadata": {
        "id": "98dV2Q9ATC-t"
      },
      "outputs": [],
      "source": [
        "def NeuralNetwork(X_train, Y_train, X_val=None, Y_val=None, epochs=10, nodes=[], lr=0.15):\n",
        "    hidden_layers = len(nodes) - 1\n",
        "    weights = InitializeWeights(nodes)\n",
        "\n",
        "    for epoch in range(1, epochs+1):\n",
        "        weights = Train(X_train, Y_train, lr, weights)\n",
        "\n",
        "        if(epoch % 20 == 0):\n",
        "            print(\"Epoch {}\".format(epoch))\n",
        "            print(\"Training Accuracy:{}\".format(Accuracy(X_train, Y_train, weights)))\n",
        "            #if X_val.any():\n",
        "            #    print(\"Validation Accuracy:{}\".format(Accuracy(X_val, Y_val, weights)))\n",
        "            \n",
        "    return weights\n",
        "\n",
        "def InitializeWeights(nodes):\n",
        "  layers, weights = len(nodes), []\n",
        "\n",
        "  for i in range(1, layers):\n",
        "      w = [[np.random.uniform(-1, 1) for k in range(nodes[i-1] + 1)]\n",
        "            for j in range(nodes[i])]\n",
        "      weights.append(np.matrix(w))\n",
        "\n",
        "  return weights\n",
        "\n",
        "def ForwardPropagation(x, weights, layers):\n",
        "  activations, layer_input = [x], x\n",
        "  for j in range(layers):\n",
        "      activation = Sigmoid(np.dot(layer_input, weights[j].T))\n",
        "      activations.append(activation)\n",
        "      layer_input = np.append(1, activation) # Augment with bias\n",
        "  \n",
        "  return activations\n",
        "\n",
        "def BackPropagation(y, activations, weights, layers):\n",
        "  outputFinal = activations[-1]\n",
        "  error = np.matrix(y - outputFinal) # Error at output\n",
        "  \n",
        "  for j in range(layers, 0, -1):\n",
        "      currActivation = activations[j]\n",
        "      \n",
        "      if(j > 1):\n",
        "\n",
        "          # Augment previous activation\n",
        "          prevActivation = np.append(1, activations[j-1])\n",
        "      else:\n",
        "          # First hidden layer, prevActivation is input (without bias)\n",
        "          prevActivation = activations[0]\n",
        "      \n",
        "      delta = np.multiply(error, SigmoidDerivative(currActivation))\n",
        "      weights[j-1] += lr * np.multiply(delta.T, prevActivation)\n",
        "\n",
        "      w = np.delete(weights[j-1], [0], axis=1) # Remove bias from weights\n",
        "      error = np.dot(delta, w) # Calculate error for current layer\n",
        "  \n",
        "  return weights\n",
        "\n",
        "\n",
        "def Train(X, Y, lr, weights):\n",
        "  layers = len(weights)\n",
        "  for i in range(len(X)):\n",
        "      x, y = X[i], Y[i]\n",
        "      x = np.matrix(np.append(1, x)) # Augment feature vector\n",
        "      \n",
        "      activations = ForwardPropagation(x, weights, layers)\n",
        "      weights = BackPropagation(y, activations, weights, layers)\n",
        "\n",
        "  return weights\n",
        "\n",
        "\n",
        "def Sigmoid(x):\n",
        "  return 1 / (1 + np.exp(-x))\n",
        "\n",
        "def SigmoidDerivative(x):\n",
        "    return np.multiply(x, 1-x)\n",
        "\n",
        "\n",
        "def Predict(item, weights):\n",
        "  layers = len(weights)\n",
        "  item = np.append(1, item) # Augment feature vector\n",
        "  \n",
        "  ##_Forward Propagation_##\n",
        "  activations = ForwardPropagation(item, weights, layers)\n",
        "  \n",
        "  outputFinal = activations[-1].A1\n",
        "  index = FindMaxActivation(outputFinal)\n",
        "\n",
        "  # Initialize prediction vector to zeros\n",
        "  y = [0 for i in range(len(outputFinal))]\n",
        "  y[index] = 1  # Set guessed class to 1\n",
        "\n",
        "  return y # Return prediction vector\n",
        "\n",
        "def FindMaxActivation(output):\n",
        "    \"\"\"Find max activation in output\"\"\"\n",
        "    m, index = output[0], 0\n",
        "    for i in range(1, len(output)):\n",
        "        if(output[i] > m):\n",
        "            m, index = output[i], i\n",
        "    return index\n",
        "\n",
        "def Accuracy(X, Y, weights):\n",
        "  \"\"\"Run set through network, find overall accuracy\"\"\"\n",
        "  correct = 0\n",
        "\n",
        "  for i in range(len(X)):\n",
        "    x, y = X[i], list(Y[i])\n",
        "    guess = Predict(x, weights)\n",
        "\n",
        "    if(y == guess):\n",
        "        # Guessed correctly\n",
        "        correct += 1\n",
        "\n",
        "  return correct / len(X)\n",
        "\n",
        "  "
      ]
    },
    {
      "cell_type": "code",
      "execution_count": null,
      "metadata": {
        "id": "stBfcK4NXJQN",
        "colab": {
          "base_uri": "https://localhost:8080/"
        },
        "outputId": "ff249c30-8a78-4c14-ddf5-0b4737db28d6"
      },
      "outputs": [
        {
          "output_type": "stream",
          "name": "stdout",
          "text": [
            "Epoch 20\n",
            "Training Accuracy:0.9763779527559056\n",
            "Epoch 40\n",
            "Training Accuracy:0.968503937007874\n",
            "Epoch 60\n",
            "Training Accuracy:0.905511811023622\n",
            "Epoch 80\n",
            "Training Accuracy:0.905511811023622\n",
            "Epoch 100\n",
            "Training Accuracy:0.9212598425196851\n"
          ]
        }
      ],
      "source": [
        "f = len(X[0]) # Number of features\n",
        "o = len(Y[0]) # Number of outputs / classes\n",
        "\n",
        "layers = [f, 20, 30, o] # Number of nodes in layers\n",
        "lr, epochs = 0.1, 100\n",
        "\n",
        "weights = NeuralNetwork(X_train, Y_train, epochs=epochs, nodes=layers, lr=lr);"
      ]
    },
    {
      "cell_type": "markdown",
      "metadata": {
        "id": "82HmtSSdJAIw"
      },
      "source": [
        "**Part (2): Neural Netwrok from Scratch on Mnist Dataset**"
      ]
    },
    {
      "cell_type": "code",
      "source": [
        "import numpy as np\n",
        "import time\n",
        "import matplotlib.pyplot\n",
        "%matplotlib inline"
      ],
      "metadata": {
        "id": "ZAGcAMKRrwUS"
      },
      "execution_count": null,
      "outputs": []
    },
    {
      "cell_type": "code",
      "source": [
        "def convert(imgf, labelf, outf, n):\n",
        "    f = open(imgf, \"rb\")\n",
        "    o = open(outf, \"w\")\n",
        "    l = open(labelf, \"rb\")\n",
        "\n",
        "    f.read(16)\n",
        "    l.read(8)\n",
        "    images = []\n",
        "\n",
        "    for i in range(n):\n",
        "        image = [ord(l.read(1))]\n",
        "        for j in range(28*28):\n",
        "            image.append(ord(f.read(1)))\n",
        "        images.append(image)\n",
        "\n",
        "    for image in images:\n",
        "        o.write(\",\".join(str(pix) for pix in image)+\"\\n\")\n",
        "    f.close()\n",
        "    o.close()\n",
        "    l.close()\n",
        "     "
      ],
      "metadata": {
        "id": "hIYMLzwprwW6"
      },
      "execution_count": null,
      "outputs": []
    },
    {
      "cell_type": "code",
      "source": [
        "convert('/content/drive/My Drive/Datasets/train-images.idx3-ubyte', '/content/drive/My Drive/Datasets/train-labels.idx1-ubyte',\n",
        "        '/content/drive/My Drive/Datasets/mnist_train.csv', 60000)\n",
        "convert(\"/content/drive/My Drive/Datasets/t10k-images.idx3-ubyte\", \"/content/drive/My Drive/Datasets/t10k-labels.idx1-ubyte\",\n",
        "        \"/content/drive/My Drive/Datasets/mnist_test.csv\", 10000)"
      ],
      "metadata": {
        "id": "GaDnSOtOrwZu"
      },
      "execution_count": null,
      "outputs": []
    },
    {
      "cell_type": "code",
      "source": [
        "# open the CSV file and read its contents into a list\n",
        "train_file = open(\"/content/drive/My Drive/Datasets/mnist_train.csv\", 'r')\n",
        "train_list = train_file.readlines()\n",
        "train_file.close()"
      ],
      "metadata": {
        "id": "mY-wl8hlrwcY"
      },
      "execution_count": null,
      "outputs": []
    },
    {
      "cell_type": "code",
      "source": [
        "# check the number of data records (examples)\n",
        "len(train_list)\n",
        "     \n",
        "60000"
      ],
      "metadata": {
        "colab": {
          "base_uri": "https://localhost:8080/"
        },
        "id": "qpg2vFy3rwes",
        "outputId": "8b213b57-c8b0-43ad-fb74-88853700219f"
      },
      "execution_count": null,
      "outputs": [
        {
          "output_type": "execute_result",
          "data": {
            "text/plain": [
              "60000"
            ]
          },
          "metadata": {},
          "execution_count": 83
        }
      ]
    },
    {
      "cell_type": "code",
      "source": [
        "# show a dataset record\n",
        "# the first number is the label, the rest are pixel colour values (greyscale 0-255)\n",
        "train_list[100]\n",
        "     "
      ],
      "metadata": {
        "colab": {
          "base_uri": "https://localhost:8080/",
          "height": 123
        },
        "id": "wXopFK8orwhn",
        "outputId": "218c6d8c-6894-4f80-9adc-255418209d81"
      },
      "execution_count": null,
      "outputs": [
        {
          "output_type": "execute_result",
          "data": {
            "text/plain": [
              "'5,0,0,0,0,0,0,0,0,0,0,0,0,0,0,0,0,0,0,0,0,0,0,0,0,0,0,0,0,0,0,0,0,0,0,0,0,0,0,0,0,0,0,0,0,0,0,0,0,0,0,0,0,0,0,0,0,0,0,0,0,0,0,0,0,0,0,0,0,0,0,0,0,0,0,0,0,0,0,0,0,0,0,0,0,0,0,0,0,0,0,0,0,0,0,0,0,0,0,0,0,0,0,0,0,0,0,0,0,0,0,0,0,0,0,0,0,0,0,0,0,0,0,0,0,0,0,0,0,0,0,0,0,0,0,0,0,0,0,0,0,0,0,0,0,0,0,0,0,0,0,0,0,0,0,0,0,0,0,0,0,0,0,0,0,0,0,0,0,0,0,0,0,0,0,0,0,0,0,0,0,0,2,18,46,136,136,244,255,241,103,0,0,0,0,0,0,0,0,0,0,0,0,0,0,0,0,0,15,94,163,253,253,253,253,238,218,204,35,0,0,0,0,0,0,0,0,0,0,0,0,0,0,0,0,0,131,253,253,253,253,237,200,57,0,0,0,0,0,0,0,0,0,0,0,0,0,0,0,0,0,0,0,155,246,253,247,108,65,45,0,0,0,0,0,0,0,0,0,0,0,0,0,0,0,0,0,0,0,0,0,207,253,253,230,0,0,0,0,0,0,0,0,0,0,0,0,0,0,0,0,0,0,0,0,0,0,0,0,157,253,253,125,0,0,0,0,0,0,0,0,0,0,0,0,0,0,0,0,0,0,0,0,0,0,0,0,89,253,250,57,0,0,0,0,0,0,0,0,0,0,0,0,0,0,0,0,0,0,0,0,0,0,0,0,89,253,247,0,0,0,0,0,0,0,0,0,0,0,0,0,0,0,0,0,0,0,0,0,0,0,0,0,89,253,247,0,0,0,0,0,0,0,0,0,0,0,0,0,0,0,0,0,0,0,0,0,0,0,0,0,89,253,247,0,0,0,0,0,0,0,0,0,0,0,0,0,0,0,0,0,0,0,0,0,0,0,0,0,21,231,249,34,0,0,0,0,0,0,0,0,0,0,0,0,0,0,0,0,0,0,0,0,0,0,0,0,0,225,253,231,213,213,123,16,0,0,0,0,0,0,0,0,0,0,0,0,0,0,0,0,0,0,0,0,0,172,253,253,253,253,253,190,63,0,0,0,0,0,0,0,0,0,0,0,0,0,0,0,0,0,0,0,0,2,116,72,124,209,253,253,141,0,0,0,0,0,0,0,0,0,0,0,0,0,0,0,0,0,0,0,0,0,0,0,0,25,219,253,206,3,0,0,0,0,0,0,0,0,0,0,0,0,0,0,0,0,0,0,0,0,0,0,0,0,104,246,253,5,0,0,0,0,0,0,0,0,0,0,0,0,0,0,0,0,0,0,0,0,0,0,0,0,0,213,253,5,0,0,0,0,0,0,0,0,0,0,0,0,0,0,0,0,0,0,0,0,0,0,0,0,26,226,253,5,0,0,0,0,0,0,0,0,0,0,0,0,0,0,0,0,0,0,0,0,0,0,0,0,132,253,209,3,0,0,0,0,0,0,0,0,0,0,0,0,0,0,0,0,0,0,0,0,0,0,0,0,78,253,86,0,0,0,0,0,0,0,0,0,0,0,0,0,0,0,0,0,0,0,0,0,0,0,0,0,0,0,0,0,0,0,0,0,0,0,0,0,0,0,0,0,0,0,0,0,0,0,0,0,0,0,0,0,0,0,0,0,0,0,0,0,0,0,0,0\\n'"
            ],
            "application/vnd.google.colaboratory.intrinsic+json": {
              "type": "string"
            }
          },
          "metadata": {},
          "execution_count": 84
        }
      ]
    },
    {
      "cell_type": "code",
      "source": [
        "# take the data from a record, rearrange it into a 28*28 array and plot it as an image\n",
        "all_values = train_list[100].split(',')\n",
        "image_array = np.asfarray(all_values[1:]).reshape((28,28))\n",
        "matplotlib.pyplot.imshow(image_array, cmap='Greys', interpolation='None')"
      ],
      "metadata": {
        "colab": {
          "base_uri": "https://localhost:8080/",
          "height": 282
        },
        "id": "g7mxSUvUsBmv",
        "outputId": "c785651c-d65f-4fe8-96bc-77fc9e6ade44"
      },
      "execution_count": null,
      "outputs": [
        {
          "output_type": "execute_result",
          "data": {
            "text/plain": [
              "<matplotlib.image.AxesImage at 0x7fea2aa8bd30>"
            ]
          },
          "metadata": {},
          "execution_count": 85
        },
        {
          "output_type": "display_data",
          "data": {
            "text/plain": [
              "<Figure size 432x288 with 1 Axes>"
            ],
            "image/png": "[encoded data removed]"
          },
          "metadata": {
            "needs_background": "light"
          }
        }
      ]
    },
    {
      "cell_type": "code",
      "source": [
        "# scale input to range 0.01 to 1.00\n",
        "scaled_input_train = (np.asfarray(all_values[1:]) / 255.0 * 0.99) + 0.01\n",
        "# print(scaled_input)"
      ],
      "metadata": {
        "id": "cs6JC2bpszut"
      },
      "execution_count": null,
      "outputs": []
    },
    {
      "cell_type": "code",
      "source": [
        "# open the CSV file and read its contents into a list\n",
        "test_file = open(\"/content/drive/My Drive/Datasets/mnist_test.csv\", 'r')\n",
        "test_list = test_file.readlines()\n",
        "test_file.close()"
      ],
      "metadata": {
        "id": "EEGvkK7bs020"
      },
      "execution_count": null,
      "outputs": []
    },
    {
      "cell_type": "code",
      "source": [
        "# take the data from a record, rearrange it into a 28*28 array and plot it as an image\n",
        "all_values = test_list[100].split(',')\n",
        "image_array = np.asfarray(all_values[1:]).reshape((28,28))\n",
        "matplotlib.pyplot.imshow(image_array, cmap='Greys', interpolation='None')\n",
        "     \n"
      ],
      "metadata": {
        "colab": {
          "base_uri": "https://localhost:8080/",
          "height": 282
        },
        "id": "OFGqCNdFs4eo",
        "outputId": "8121460e-ff78-45e3-e872-9428f431580c"
      },
      "execution_count": null,
      "outputs": [
        {
          "output_type": "execute_result",
          "data": {
            "text/plain": [
              "<matplotlib.image.AxesImage at 0x7fea2a87bd90>"
            ]
          },
          "metadata": {},
          "execution_count": 88
        },
        {
          "output_type": "display_data",
          "data": {
            "text/plain": [
              "<Figure size 432x288 with 1 Axes>"
            ],
            "image/png": "[encoded data removed]"
          },
          "metadata": {
            "needs_background": "light"
          }
        }
      ]
    },
    {
      "cell_type": "code",
      "source": [
        "# scale input to range 0.01 to 1.00\n",
        "scaled_input_train = (np.asfarray(all_values[1:]) / 255.0 * 0.99) + 0.01\n",
        "# print(scaled_input)"
      ],
      "metadata": {
        "id": "GA1nCC7YsBoI"
      },
      "execution_count": null,
      "outputs": []
    },
    {
      "cell_type": "code",
      "source": [
        "\n",
        "class NN:\n",
        "  def __init__(self, sizes, epochs, lr):\n",
        "    self.sizes = sizes\n",
        "    self.epochs = epochs\n",
        "    self.lr = lr\n",
        "\n",
        "    # number of nodes in each layer\n",
        "    input_layer=self.sizes[0]\n",
        "    hidden_1=self.sizes[1]\n",
        "    hidden_2=self.sizes[2]\n",
        "    output_layer=self.sizes[3]\n",
        "\n",
        "    self.params = {\n",
        "        'W1':np.random.randn(hidden_1, input_layer) * np.sqrt(1. / hidden_1),\n",
        "        'W2':np.random.randn(hidden_2, hidden_1) * np.sqrt(1. / hidden_2),\n",
        "        'W3':np.random.randn(output_layer, hidden_2) * np.sqrt(1. / output_layer)\n",
        "    }\n",
        "  def sigmoid(self, x, derivative=False):\n",
        "      if derivative:\n",
        "          return (np.exp(-x))/((np.exp(-x)+1)**2)\n",
        "      return 1/(1 + np.exp(-x))\n",
        "\n",
        "  def softmax(self, x, derivative=False):\n",
        "      # Numerically stable with large exponentials\n",
        "      exps = np.exp(x - x.max())\n",
        "      if derivative:\n",
        "          return exps / np.sum(exps, axis=0) * (1 - exps / np.sum(exps, axis=0))\n",
        "      return exps / np.sum(exps, axis=0)\n",
        "  def forward_pass(self, x_train):\n",
        "      params = self.params\n",
        "\n",
        "      # input layer activations becomes sample\n",
        "      params['A0'] = x_train\n",
        "\n",
        "      # input layer to hidden layer 1\n",
        "      params['Z1'] = np.dot(params[\"W1\"], params['A0'])\n",
        "      params['A1'] = self.sigmoid(params['Z1'])\n",
        "\n",
        "      # hidden layer 1 to hidden layer 2\n",
        "      params['Z2'] = np.dot(params[\"W2\"], params['A1'])\n",
        "      params['A2'] = self.sigmoid(params['Z2'])\n",
        "\n",
        "      # hidden layer 2 to output layer\n",
        "      params['Z3'] = np.dot(params[\"W3\"], params['A2'])\n",
        "      params['A3'] = self.softmax(params['Z3'])\n",
        "\n",
        "      return params['A3']\n",
        "\n",
        "  def backward_pass(self, y_train, output):\n",
        "      '''\n",
        "          This is the backpropagation algorithm, for calculating the updates\n",
        "          of the neural network's parameters.\n",
        "\n",
        "          Note: There is a stability issue that causes warnings. This is \n",
        "                caused  by the dot and multiply operations on the huge arrays.\n",
        "                \n",
        "                RuntimeWarning: invalid value encountered in true_divide\n",
        "                RuntimeWarning: overflow encountered in exp\n",
        "                RuntimeWarning: overflow encountered in square\n",
        "      '''\n",
        "      params = self.params\n",
        "      change_w = {}\n",
        "\n",
        "      # Calculate W3 update\n",
        "      error = 2 * (output - y_train) / output.shape[0] * self.softmax(params['Z3'], derivative=True)\n",
        "      change_w['W3'] = np.outer(error, params['A2'])\n",
        "\n",
        "      # Calculate W2 update\n",
        "      error = np.dot(params['W3'].T, error) * self.sigmoid(params['Z2'], derivative=True)\n",
        "      change_w['W2'] = np.outer(error, params['A1'])\n",
        "\n",
        "      # Calculate W1 update\n",
        "      error = np.dot(params['W2'].T, error) * self.sigmoid(params['Z1'], derivative=True)\n",
        "      change_w['W1'] = np.outer(error, params['A0'])\n",
        "\n",
        "      return change_w\n",
        "\n",
        "  def update_network_parameters(self, changes_to_w):\n",
        "      '''\n",
        "          Update network parameters according to update rule from\n",
        "          Stochastic Gradient Descent.\n",
        "\n",
        "          θ = θ - η * ∇J(x, y), \n",
        "              theta θ:            a network parameter (e.g. a weight w)\n",
        "              eta η:              the learning rate\n",
        "              gradient ∇J(x, y):  the gradient of the objective function,\n",
        "                                  i.e. the change for a specific theta θ\n",
        "      '''\n",
        "      \n",
        "      for key, value in changes_to_w.items():\n",
        "          self.params[key] -= self.lr * value\n",
        "\n",
        "  def compute_accuracy(self, test_data, output_nodes):\n",
        "      '''\n",
        "          This function does a forward pass of x, then checks if the indices\n",
        "          of the maximum value in the output equals the indices in the label\n",
        "          y. Then it sums over each prediction and calculates the accuracy.\n",
        "      '''\n",
        "      predictions = []\n",
        "\n",
        "      for x in train_list:\n",
        "          all_values = x.split(',')\n",
        "          # scale and shift the inputs\n",
        "          inputs = (np.asfarray(all_values[1:]) / 255.0 * 0.99) + 0.01\n",
        "          # create the target output values (all 0.01, except the desired label which is 0.99)\n",
        "          targets = np.zeros(output_nodes) + 0.01\n",
        "          # all_values[0] is the target label for this record\n",
        "          targets[int(all_values[0])] = 0.99\n",
        "          output = self.forward_pass(inputs)\n",
        "          pred = np.argmax(output)\n",
        "          predictions.append(pred == np.argmax(targets))\n",
        "      \n",
        "      return np.mean(predictions)\n",
        "\n",
        "  def train(self, train_list, test_list, output_nodes):\n",
        "      start_time = time.time()\n",
        "      for iteration in range(self.epochs):\n",
        "          for x in train_list:\n",
        "              all_values = x.split(',')\n",
        "              # scale and shift the inputs\n",
        "              inputs = (np.asfarray(all_values[1:]) / 255.0 * 0.99) + 0.01\n",
        "              # create the target output values (all 0.01, except the desired label which is 0.99)\n",
        "              targets = np.zeros(output_nodes) + 0.01\n",
        "              # all_values[0] is the target label for this record\n",
        "              targets[int(all_values[0])] = 0.99\n",
        "              output = self.forward_pass(inputs)\n",
        "              changes_to_w = self.backward_pass(targets, output)\n",
        "              self.update_network_parameters(changes_to_w)\n",
        "          \n",
        "          accuracy = self.compute_accuracy(test_list, output_nodes)\n",
        "          print('Epoch: {0}, Time Spent: {1:.2f}s, Accuracy: {2:.2f}%'.format(\n",
        "              iteration+1, time.time() - start_time, accuracy * 100\n",
        "          ))"
      ],
      "metadata": {
        "id": "Swdc2dlHsInF"
      },
      "execution_count": null,
      "outputs": []
    },
    {
      "cell_type": "code",
      "source": [
        "dnn = NN(sizes=[784, 128, 64, 10], epochs=10, lr=0.25)\n",
        "dnn.train(train_list, test_list, 10)"
      ],
      "metadata": {
        "colab": {
          "base_uri": "https://localhost:8080/"
        },
        "id": "UUkc1CousIoN",
        "outputId": "d07dcb4c-050b-45d8-df0a-db4b51914f57"
      },
      "execution_count": null,
      "outputs": [
        {
          "output_type": "stream",
          "name": "stdout",
          "text": [
            "Epoch: 1, Time Spent: 53.86s, Accuracy: 89.71%\n",
            "Epoch: 2, Time Spent: 109.67s, Accuracy: 93.12%\n",
            "Epoch: 3, Time Spent: 163.36s, Accuracy: 94.63%\n",
            "Epoch: 4, Time Spent: 216.97s, Accuracy: 95.47%\n",
            "Epoch: 5, Time Spent: 271.78s, Accuracy: 96.05%\n",
            "Epoch: 6, Time Spent: 327.60s, Accuracy: 96.51%\n",
            "Epoch: 7, Time Spent: 380.79s, Accuracy: 96.98%\n",
            "Epoch: 8, Time Spent: 434.03s, Accuracy: 97.01%\n",
            "Epoch: 9, Time Spent: 487.39s, Accuracy: 97.18%\n",
            "Epoch: 10, Time Spent: 551.88s, Accuracy: 97.31%\n"
          ]
        }
      ]
    }
  ],
  "metadata": {
    "colab": {
      "provenance": []
    },
    "kernelspec": {
      "display_name": "Python 3",
      "name": "python3"
    },
    "language_info": {
      "name": "python"
    }
  },
  "nbformat": 4,
  "nbformat_minor": 0
}